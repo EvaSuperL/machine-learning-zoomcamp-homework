{
 "cells": [
  {
   "cell_type": "markdown",
   "id": "b8b448cf-e9d3-43a3-b22e-cb1427cc3a98",
   "metadata": {},
   "source": [
    "## Homework 1: Introduction to Machine Learning for Machine Learning Zoomcamp 2025"
   ]
  },
  {
   "cell_type": "markdown",
   "id": "83c0e192-42bb-467c-996f-29ff6ad0c590",
   "metadata": {},
   "source": [
    "### Importing the dependencies"
   ]
  },
  {
   "cell_type": "code",
   "execution_count": 250,
   "id": "e732fba9-3b7c-4fd7-afcb-09a4b3a8f75c",
   "metadata": {},
   "outputs": [],
   "source": [
    "import pandas as pd\n",
    "import numpy as np"
   ]
  },
  {
   "cell_type": "markdown",
   "id": "3a47ed5d",
   "metadata": {},
   "source": [
    "### Q1. Pandas version\n",
    "What's the version of Pandas that you installed?\n",
    "\n",
    "You can get the version information using the __version__ field:"
   ]
  },
  {
   "cell_type": "code",
   "execution_count": 251,
   "id": "a2d64d12-f099-473f-9b57-f09634d009a5",
   "metadata": {},
   "outputs": [
    {
     "data": {
      "text/plain": [
       "'2.2.3'"
      ]
     },
     "execution_count": 251,
     "metadata": {},
     "output_type": "execute_result"
    }
   ],
   "source": [
    "# Check my current pandas version\n",
    "pd.__version__"
   ]
  },
  {
   "cell_type": "markdown",
   "id": "371b197e",
   "metadata": {},
   "source": [
    "### Getting the data\n",
    "For this homework, we'll use the Car Fuel Efficiency dataset. Download it from here.\n",
    "\n",
    "You can do it with wget: "
   ]
  },
  {
   "cell_type": "code",
   "execution_count": 261,
   "id": "485a8598",
   "metadata": {},
   "outputs": [],
   "source": [
    "# Read the CSV data file\n",
    "df = pd.read_csv('https://raw.githubusercontent.com/alexeygrigorev/datasets/master/car_fuel_efficiency.csv')"
   ]
  },
  {
   "cell_type": "code",
   "execution_count": 262,
   "id": "b4025f8f",
   "metadata": {},
   "outputs": [
    {
     "data": {
      "text/html": [
       "<div>\n",
       "<style scoped>\n",
       "    .dataframe tbody tr th:only-of-type {\n",
       "        vertical-align: middle;\n",
       "    }\n",
       "\n",
       "    .dataframe tbody tr th {\n",
       "        vertical-align: top;\n",
       "    }\n",
       "\n",
       "    .dataframe thead th {\n",
       "        text-align: right;\n",
       "    }\n",
       "</style>\n",
       "<table border=\"1\" class=\"dataframe\">\n",
       "  <thead>\n",
       "    <tr style=\"text-align: right;\">\n",
       "      <th></th>\n",
       "      <th>engine_displacement</th>\n",
       "      <th>num_cylinders</th>\n",
       "      <th>horsepower</th>\n",
       "      <th>vehicle_weight</th>\n",
       "      <th>acceleration</th>\n",
       "      <th>model_year</th>\n",
       "      <th>origin</th>\n",
       "      <th>fuel_type</th>\n",
       "      <th>drivetrain</th>\n",
       "      <th>num_doors</th>\n",
       "      <th>fuel_efficiency_mpg</th>\n",
       "    </tr>\n",
       "  </thead>\n",
       "  <tbody>\n",
       "    <tr>\n",
       "      <th>0</th>\n",
       "      <td>170</td>\n",
       "      <td>3.0</td>\n",
       "      <td>159.0</td>\n",
       "      <td>3413.433759</td>\n",
       "      <td>17.7</td>\n",
       "      <td>2003</td>\n",
       "      <td>Europe</td>\n",
       "      <td>Gasoline</td>\n",
       "      <td>All-wheel drive</td>\n",
       "      <td>0.0</td>\n",
       "      <td>13.231729</td>\n",
       "    </tr>\n",
       "    <tr>\n",
       "      <th>1</th>\n",
       "      <td>130</td>\n",
       "      <td>5.0</td>\n",
       "      <td>97.0</td>\n",
       "      <td>3149.664934</td>\n",
       "      <td>17.8</td>\n",
       "      <td>2007</td>\n",
       "      <td>USA</td>\n",
       "      <td>Gasoline</td>\n",
       "      <td>Front-wheel drive</td>\n",
       "      <td>0.0</td>\n",
       "      <td>13.688217</td>\n",
       "    </tr>\n",
       "    <tr>\n",
       "      <th>2</th>\n",
       "      <td>170</td>\n",
       "      <td>NaN</td>\n",
       "      <td>78.0</td>\n",
       "      <td>3079.038997</td>\n",
       "      <td>15.1</td>\n",
       "      <td>2018</td>\n",
       "      <td>Europe</td>\n",
       "      <td>Gasoline</td>\n",
       "      <td>Front-wheel drive</td>\n",
       "      <td>0.0</td>\n",
       "      <td>14.246341</td>\n",
       "    </tr>\n",
       "    <tr>\n",
       "      <th>3</th>\n",
       "      <td>220</td>\n",
       "      <td>4.0</td>\n",
       "      <td>NaN</td>\n",
       "      <td>2542.392402</td>\n",
       "      <td>20.2</td>\n",
       "      <td>2009</td>\n",
       "      <td>USA</td>\n",
       "      <td>Diesel</td>\n",
       "      <td>All-wheel drive</td>\n",
       "      <td>2.0</td>\n",
       "      <td>16.912736</td>\n",
       "    </tr>\n",
       "    <tr>\n",
       "      <th>4</th>\n",
       "      <td>210</td>\n",
       "      <td>1.0</td>\n",
       "      <td>140.0</td>\n",
       "      <td>3460.870990</td>\n",
       "      <td>14.4</td>\n",
       "      <td>2009</td>\n",
       "      <td>Europe</td>\n",
       "      <td>Gasoline</td>\n",
       "      <td>All-wheel drive</td>\n",
       "      <td>2.0</td>\n",
       "      <td>12.488369</td>\n",
       "    </tr>\n",
       "  </tbody>\n",
       "</table>\n",
       "</div>"
      ],
      "text/plain": [
       "   engine_displacement  num_cylinders  horsepower  vehicle_weight  \\\n",
       "0                  170            3.0       159.0     3413.433759   \n",
       "1                  130            5.0        97.0     3149.664934   \n",
       "2                  170            NaN        78.0     3079.038997   \n",
       "3                  220            4.0         NaN     2542.392402   \n",
       "4                  210            1.0       140.0     3460.870990   \n",
       "\n",
       "   acceleration  model_year  origin fuel_type         drivetrain  num_doors  \\\n",
       "0          17.7        2003  Europe  Gasoline    All-wheel drive        0.0   \n",
       "1          17.8        2007     USA  Gasoline  Front-wheel drive        0.0   \n",
       "2          15.1        2018  Europe  Gasoline  Front-wheel drive        0.0   \n",
       "3          20.2        2009     USA    Diesel    All-wheel drive        2.0   \n",
       "4          14.4        2009  Europe  Gasoline    All-wheel drive        2.0   \n",
       "\n",
       "   fuel_efficiency_mpg  \n",
       "0            13.231729  \n",
       "1            13.688217  \n",
       "2            14.246341  \n",
       "3            16.912736  \n",
       "4            12.488369  "
      ]
     },
     "execution_count": 262,
     "metadata": {},
     "output_type": "execute_result"
    }
   ],
   "source": [
    "# Show the top 5 rows data\n",
    "df.head(5)"
   ]
  },
  {
   "cell_type": "markdown",
   "id": "b505cbaf",
   "metadata": {},
   "source": [
    "### Q2. Records count\n",
    "How many records are in the dataset?"
   ]
  },
  {
   "cell_type": "code",
   "execution_count": 254,
   "id": "0be4d697",
   "metadata": {},
   "outputs": [
    {
     "name": "stdout",
     "output_type": "stream",
     "text": [
      "The shape method:  9704\n",
      "The count method:  9704\n",
      "The len method:  9704\n"
     ]
    }
   ],
   "source": [
    "# Calculate the records number from simple dataset\n",
    "\"\"\"\n",
    "Three ways to check the result\n",
    "\"\"\"\n",
    "\n",
    "print('The shape method: ', df.shape[0])\n",
    "print('The count method: ', df[df.columns[0]].count())\n",
    "print('The len method: ', len(df.index))\n"
   ]
  },
  {
   "cell_type": "markdown",
   "id": "fc00e54b",
   "metadata": {},
   "source": [
    "### Q3. Fuel types\n",
    "How many fuel types are presented in the dataset?"
   ]
  },
  {
   "cell_type": "code",
   "execution_count": 255,
   "id": "b2c774f5",
   "metadata": {},
   "outputs": [
    {
     "name": "stdout",
     "output_type": "stream",
     "text": [
      "The unique of the fuel types:  ['Gasoline' 'Diesel']\n",
      "The sum of the unique fuel types:  2\n"
     ]
    }
   ],
   "source": [
    "# Calculate the number of the fuel types in df\n",
    "print('The unique of the fuel types: ', df.fuel_type.unique())\n",
    "print('The sum of the unique fuel types: ', df.fuel_type.nunique())\n"
   ]
  },
  {
   "cell_type": "markdown",
   "id": "60d12052",
   "metadata": {},
   "source": [
    "### Q4. Missing values\n",
    "How many columns in the dataset have missing values?"
   ]
  },
  {
   "cell_type": "code",
   "execution_count": 256,
   "id": "729d30d3",
   "metadata": {},
   "outputs": [
    {
     "name": "stdout",
     "output_type": "stream",
     "text": [
      "The sum of columns which have missing value:  4\n"
     ]
    }
   ],
   "source": [
    "# Caclulate the number of missing value in each column\n",
    "\n",
    "print('The sum of columns which have missing value: ', (df.isnull().sum() > 0).sum())\n"
   ]
  },
  {
   "cell_type": "markdown",
   "id": "191c6156",
   "metadata": {},
   "source": [
    "### Q5. Max fuel efficiency\n",
    "What's the maximum fuel efficiency of cars from Asia?"
   ]
  },
  {
   "cell_type": "code",
   "execution_count": 257,
   "id": "b8f3aac9",
   "metadata": {},
   "outputs": [
    {
     "name": "stdout",
     "output_type": "stream",
     "text": [
      "The maximum of the fuel efficiency of cars from Asia:  23.759122836520497\n"
     ]
    }
   ],
   "source": [
    "# Check the maximum fuel efficiency of cars from Asia\n",
    "\n",
    "print('The maximum of the fuel efficiency of cars from Asia: ', df[df.origin == 'Asia'].fuel_efficiency_mpg.max())\n"
   ]
  },
  {
   "cell_type": "markdown",
   "id": "b4ac53fd",
   "metadata": {},
   "source": [
    "### Q6. Median value of horsepower\n",
    "1. Find the median value of horsepower column in the dataset.\n",
    "2. Next, calculate the most frequent value of the same horsepower column.\n",
    "3. Use fillna method to fill the missing values in horsepower column with the most frequent value from the previous step.\n",
    "4. Now, calculate the median value of horsepower once again.\n",
    "\n",
    "Has it changed?"
   ]
  },
  {
   "cell_type": "code",
   "execution_count": 264,
   "id": "89ac4935",
   "metadata": {},
   "outputs": [
    {
     "name": "stdout",
     "output_type": "stream",
     "text": [
      "The mean value of horsepower column 149.65729212983547\n",
      "The most frequent value of horsepower column:  152.0\n",
      "The new mean value of the horsepower column:  149.82821516900248\n"
     ]
    }
   ],
   "source": [
    "# Check whether the median value of horsepower has been changed after the 3 steps\n",
    "\n",
    "print('The mean value of horsepower column', df.horsepower.mean())\n",
    "\n",
    "print('The most frequent value of horsepower column: ', df.horsepower.value_counts().index[0])\n",
    "\n",
    "\"\"\"\n",
    "Filling the missing value with the most frequent value via fillna for horsepower column\n",
    "Then recalculate the mean value of horsepower column\n",
    "\"\"\"\n",
    "\n",
    "print('The new mean value of the horsepower column: ', (df.horsepower.fillna(df.horsepower.value_counts().index[0])).mean())\n"
   ]
  },
  {
   "cell_type": "markdown",
   "id": "c185cbee",
   "metadata": {},
   "source": [
    "### Q7. Sum of weights\n",
    "1. Select all the cars from Asia\n",
    "2. Select only columns vehicle_weight and model_year\n",
    "3. Select the first 7 values\n",
    "4. Get the underlying NumPy array. Let's call it X.\n",
    "5. Compute matrix-matrix multiplication between the transpose of X and X. To get the transpose, use X.T. Let's call the result XTX.\n",
    "6. Invert XTX.\n",
    "7. Create an array y with values [1100, 1300, 800, 900, 1000, 1100, 1200].\n",
    "8. Multiply the inverse of XTX with the transpose of X, and then multiply the result by y. Call the result w.\n",
    "9. What's the sum of all the elements of the result?\n",
    "\n",
    "> Note: You just implemented linear regression. We'll talk about it in the next lesson."
   ]
  },
  {
   "cell_type": "code",
   "execution_count": 287,
   "id": "85d95db9",
   "metadata": {},
   "outputs": [
    {
     "name": "stdout",
     "output_type": "stream",
     "text": [
      "The sum of the all elements is:  0.5187709081074005\n"
     ]
    }
   ],
   "source": [
    "# Calculate the sum of all the elemnets after the 8 steps\n",
    "\n",
    "\"\"\"\n",
    "First: select the all cars from Asia\n",
    "Second: select two columns: vehicle_weight and model_year\n",
    "Third: select the top 7 rows\n",
    "Forth: save the rows to X\n",
    "Fifth: compute the matrix multiplication for transpose X and X, and save the result to XTX\n",
    "Sixth: invert XTX and create an array y\n",
    "Seventh: mutiply XTX*transpose(X)*y = w\n",
    "\"\"\"\n",
    "\n",
    "def select_matrix(data,ori,cols):\n",
    "    if data is None:\n",
    "        return 0\n",
    "    \n",
    "    asia_cars = data[data.origin==ori]\n",
    "    matrix = asia_cars[cols].head(7).to_numpy()\n",
    "\n",
    "    return matrix\n",
    "\n",
    "\n",
    "        \n",
    "    \n",
    "def matrix_matrix_multiplication(U,V):\n",
    "    assert U.shape[1] == V.shape[0]\n",
    "\n",
    "    num_Urows = U.shape[0]\n",
    "    num_Ucols = U.shape[1]\n",
    "    num_Vcols = V.shape[1]\n",
    "\n",
    "    mm_result = np.zeros((num_Urows,num_Vcols))\n",
    "\n",
    "\n",
    "    for i in range(num_Urows):\n",
    "        for j in range(num_Vcols):\n",
    "            for k in range(num_Ucols):\n",
    "                mm_result[i][j] += U[i][k]*V[k][j]\n",
    "\n",
    "    return mm_result\n",
    "\n",
    "def matrix_vector_multiplication(U,v):\n",
    "    assert U.shape[1] == v.shape[0]\n",
    "\n",
    "    num_rows = U.shape[0]\n",
    "\n",
    "    mv_result = np.zeros(num_rows)\n",
    "\n",
    "    for i in range(num_rows):\n",
    "        mv_result[i] = vector_vector_multiplication(U[i],v)\n",
    "\n",
    "    return mv_result\n",
    "    \n",
    "\n",
    "\n",
    "X = select_matrix(df,'Asia',['vehicle_weight','model_year'])\n",
    "X_transpose = X.T\n",
    "XTX = matrix_matrix_multiplication(X_transpose,X)\n",
    "\n",
    "y = np.array([1100, 1300, 800, 900, 1000, 1100, 1200])\n",
    "\n",
    "XTX_inv = np.linalg.inv(XTX)\n",
    "\n",
    "temp = matrix_matrix_multiplication(XTX_inv,X_transpose)\n",
    "\n",
    "w = matrix_vector_multiplication(temp,y)\n",
    "\n",
    "print('The sum of the all elements is: ',np.sum(w))    "
   ]
  },
  {
   "cell_type": "code",
   "execution_count": 288,
   "id": "6cddfd9e-278c-4615-9bb3-509c4cb14c91",
   "metadata": {},
   "outputs": [
    {
     "name": "stdout",
     "output_type": "stream",
     "text": [
      "The sum of the all elements is:  0.5187709081074007\n"
     ]
    }
   ],
   "source": [
    "# Using dot() function directly\n",
    "\n",
    "XTX_new = X_transpose.dot(X)\n",
    "XTX_X_new = XTX_inv.dot(X_transpose)\n",
    "\n",
    "w_new = XTX_X_new.dot(y)\n",
    "\n",
    "print('The sum of the all elements is: ', np.sum(w_new))\n"
   ]
  },
  {
   "cell_type": "code",
   "execution_count": null,
   "id": "bb904eb8-48c4-4973-b5f2-530876309a5e",
   "metadata": {},
   "outputs": [],
   "source": []
  }
 ],
 "metadata": {
  "kernelspec": {
   "display_name": "Python 3",
   "language": "python",
   "name": "python3"
  },
  "language_info": {
   "codemirror_mode": {
    "name": "ipython",
    "version": 3
   },
   "file_extension": ".py",
   "mimetype": "text/x-python",
   "name": "python",
   "nbconvert_exporter": "python",
   "pygments_lexer": "ipython3",
   "version": "3.12.1"
  }
 },
 "nbformat": 4,
 "nbformat_minor": 5
}
