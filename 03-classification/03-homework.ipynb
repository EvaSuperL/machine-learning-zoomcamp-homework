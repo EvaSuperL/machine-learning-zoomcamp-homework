{
 "cells": [
  {
   "cell_type": "markdown",
   "id": "3a185c31",
   "metadata": {},
   "source": [
    "### Download the dataset and dependencies"
   ]
  },
  {
   "cell_type": "code",
   "execution_count": 25,
   "id": "676bb4c1",
   "metadata": {},
   "outputs": [],
   "source": [
    "import numpy as np\n",
    "import pandas as pd\n",
    "import matplotlib.pyplot as plt \n",
    "from sklearn.model_selection import train_test_split"
   ]
  },
  {
   "cell_type": "code",
   "execution_count": 2,
   "id": "1bd12b6a",
   "metadata": {},
   "outputs": [],
   "source": [
    "data = 'https://raw.githubusercontent.com/alexeygrigorev/datasets/master/course_lead_scoring.csv'"
   ]
  },
  {
   "cell_type": "code",
   "execution_count": 3,
   "id": "7b06a52e",
   "metadata": {},
   "outputs": [
    {
     "name": "stdout",
     "output_type": "stream",
     "text": [
      "--2025-10-12 17:45:01--  https://raw.githubusercontent.com/alexeygrigorev/datasets/master/course_lead_scoring.csv\n",
      "Resolving raw.githubusercontent.com (raw.githubusercontent.com)... 2606:50c0:8000::154, 2606:50c0:8002::154, 2606:50c0:8001::154, ...\n",
      "Connecting to raw.githubusercontent.com (raw.githubusercontent.com)|2606:50c0:8000::154|:443... connected.\n",
      "HTTP request sent, awaiting response... 200 OK\n",
      "Length: 80876 (79K) [text/plain]\n",
      "Saving to: ‘course_lead_scoring.csv’\n",
      "\n",
      "course_lead_scoring 100%[===================>]  78.98K  --.-KB/s    in 0.03s   \n",
      "\n",
      "2025-10-12 17:45:02 (2.33 MB/s) - ‘course_lead_scoring.csv’ saved [80876/80876]\n",
      "\n"
     ]
    }
   ],
   "source": [
    "!wget $data"
   ]
  },
  {
   "cell_type": "code",
   "execution_count": 4,
   "id": "d4172dbf",
   "metadata": {},
   "outputs": [],
   "source": [
    "df = pd.read_csv('course_lead_scoring.csv')"
   ]
  },
  {
   "cell_type": "code",
   "execution_count": 5,
   "id": "672640fb",
   "metadata": {},
   "outputs": [
    {
     "data": {
      "text/html": [
       "<div>\n",
       "<style scoped>\n",
       "    .dataframe tbody tr th:only-of-type {\n",
       "        vertical-align: middle;\n",
       "    }\n",
       "\n",
       "    .dataframe tbody tr th {\n",
       "        vertical-align: top;\n",
       "    }\n",
       "\n",
       "    .dataframe thead th {\n",
       "        text-align: right;\n",
       "    }\n",
       "</style>\n",
       "<table border=\"1\" class=\"dataframe\">\n",
       "  <thead>\n",
       "    <tr style=\"text-align: right;\">\n",
       "      <th></th>\n",
       "      <th>lead_source</th>\n",
       "      <th>industry</th>\n",
       "      <th>number_of_courses_viewed</th>\n",
       "      <th>annual_income</th>\n",
       "      <th>employment_status</th>\n",
       "      <th>location</th>\n",
       "      <th>interaction_count</th>\n",
       "      <th>lead_score</th>\n",
       "      <th>converted</th>\n",
       "    </tr>\n",
       "  </thead>\n",
       "  <tbody>\n",
       "    <tr>\n",
       "      <th>0</th>\n",
       "      <td>paid_ads</td>\n",
       "      <td>NaN</td>\n",
       "      <td>1</td>\n",
       "      <td>79450.0</td>\n",
       "      <td>unemployed</td>\n",
       "      <td>south_america</td>\n",
       "      <td>4</td>\n",
       "      <td>0.94</td>\n",
       "      <td>1</td>\n",
       "    </tr>\n",
       "    <tr>\n",
       "      <th>1</th>\n",
       "      <td>social_media</td>\n",
       "      <td>retail</td>\n",
       "      <td>1</td>\n",
       "      <td>46992.0</td>\n",
       "      <td>employed</td>\n",
       "      <td>south_america</td>\n",
       "      <td>1</td>\n",
       "      <td>0.80</td>\n",
       "      <td>0</td>\n",
       "    </tr>\n",
       "    <tr>\n",
       "      <th>2</th>\n",
       "      <td>events</td>\n",
       "      <td>healthcare</td>\n",
       "      <td>5</td>\n",
       "      <td>78796.0</td>\n",
       "      <td>unemployed</td>\n",
       "      <td>australia</td>\n",
       "      <td>3</td>\n",
       "      <td>0.69</td>\n",
       "      <td>1</td>\n",
       "    </tr>\n",
       "    <tr>\n",
       "      <th>3</th>\n",
       "      <td>paid_ads</td>\n",
       "      <td>retail</td>\n",
       "      <td>2</td>\n",
       "      <td>83843.0</td>\n",
       "      <td>NaN</td>\n",
       "      <td>australia</td>\n",
       "      <td>1</td>\n",
       "      <td>0.87</td>\n",
       "      <td>0</td>\n",
       "    </tr>\n",
       "    <tr>\n",
       "      <th>4</th>\n",
       "      <td>referral</td>\n",
       "      <td>education</td>\n",
       "      <td>3</td>\n",
       "      <td>85012.0</td>\n",
       "      <td>self_employed</td>\n",
       "      <td>europe</td>\n",
       "      <td>3</td>\n",
       "      <td>0.62</td>\n",
       "      <td>1</td>\n",
       "    </tr>\n",
       "  </tbody>\n",
       "</table>\n",
       "</div>"
      ],
      "text/plain": [
       "    lead_source    industry  number_of_courses_viewed  annual_income  \\\n",
       "0      paid_ads         NaN                         1        79450.0   \n",
       "1  social_media      retail                         1        46992.0   \n",
       "2        events  healthcare                         5        78796.0   \n",
       "3      paid_ads      retail                         2        83843.0   \n",
       "4      referral   education                         3        85012.0   \n",
       "\n",
       "  employment_status       location  interaction_count  lead_score  converted  \n",
       "0        unemployed  south_america                  4        0.94          1  \n",
       "1          employed  south_america                  1        0.80          0  \n",
       "2        unemployed      australia                  3        0.69          1  \n",
       "3               NaN      australia                  1        0.87          0  \n",
       "4     self_employed         europe                  3        0.62          1  "
      ]
     },
     "execution_count": 5,
     "metadata": {},
     "output_type": "execute_result"
    }
   ],
   "source": [
    "df.head()"
   ]
  },
  {
   "cell_type": "markdown",
   "id": "985a95a4",
   "metadata": {},
   "source": [
    "### Preparation"
   ]
  },
  {
   "cell_type": "code",
   "execution_count": 6,
   "id": "41812cc2",
   "metadata": {},
   "outputs": [
    {
     "data": {
      "text/plain": [
       "lead_source                 128\n",
       "industry                    134\n",
       "number_of_courses_viewed      0\n",
       "annual_income               181\n",
       "employment_status           100\n",
       "location                     63\n",
       "interaction_count             0\n",
       "lead_score                    0\n",
       "converted                     0\n",
       "dtype: int64"
      ]
     },
     "execution_count": 6,
     "metadata": {},
     "output_type": "execute_result"
    }
   ],
   "source": [
    "# Check missing values\n",
    "df.isnull().sum()"
   ]
  },
  {
   "cell_type": "code",
   "execution_count": 13,
   "id": "d5f0e7be",
   "metadata": {},
   "outputs": [
    {
     "data": {
      "text/plain": [
       "lead_source                  object\n",
       "industry                     object\n",
       "number_of_courses_viewed      int64\n",
       "annual_income               float64\n",
       "employment_status            object\n",
       "location                     object\n",
       "interaction_count             int64\n",
       "lead_score                  float64\n",
       "converted                     int64\n",
       "dtype: object"
      ]
     },
     "execution_count": 13,
     "metadata": {},
     "output_type": "execute_result"
    }
   ],
   "source": [
    "# Check the type of columns\n",
    "df.dtypes"
   ]
  },
  {
   "cell_type": "code",
   "execution_count": 14,
   "id": "b2519db4",
   "metadata": {},
   "outputs": [
    {
     "data": {
      "text/plain": [
       "Index(['lead_source', 'industry', 'number_of_courses_viewed', 'annual_income',\n",
       "       'employment_status', 'location', 'interaction_count', 'lead_score',\n",
       "       'converted'],\n",
       "      dtype='object')"
      ]
     },
     "execution_count": 14,
     "metadata": {},
     "output_type": "execute_result"
    }
   ],
   "source": [
    "df.columns"
   ]
  },
  {
   "cell_type": "code",
   "execution_count": 15,
   "id": "8ef86d93",
   "metadata": {},
   "outputs": [],
   "source": [
    "numerical = ['number_of_courses_viewed','annual_income','interaction_count','lead_score']"
   ]
  },
  {
   "cell_type": "code",
   "execution_count": 16,
   "id": "d54b00ed",
   "metadata": {},
   "outputs": [],
   "source": [
    "df.columns = df.columns.str.lower().str.replace(' ','_')\n",
    "categorical = list(df.dtypes[df.dtypes == 'object'].index)\n",
    "\n",
    "for c in categorical:\n",
    "    df[c] = df[c].str.lower().str.replace(' ','_')"
   ]
  },
  {
   "cell_type": "code",
   "execution_count": 32,
   "id": "7465e1de",
   "metadata": {},
   "outputs": [
    {
     "data": {
      "text/plain": [
       "['lead_source', 'industry', 'employment_status', 'location']"
      ]
     },
     "execution_count": 32,
     "metadata": {},
     "output_type": "execute_result"
    }
   ],
   "source": [
    "categorical"
   ]
  },
  {
   "cell_type": "code",
   "execution_count": 33,
   "id": "20ded64a",
   "metadata": {},
   "outputs": [],
   "source": [
    "# Filling missing value for categorical and numerical data\n",
    "df_copy = df.copy()\n",
    "\n",
    "df_copy[categorical] = df_copy[categorical].fillna('NA')\n",
    "df_copy[numerical] = df_copy[numerical].fillna(0.0)"
   ]
  },
  {
   "cell_type": "code",
   "execution_count": 34,
   "id": "d03acd18",
   "metadata": {},
   "outputs": [
    {
     "data": {
      "text/plain": [
       "lead_source                 0\n",
       "industry                    0\n",
       "number_of_courses_viewed    0\n",
       "annual_income               0\n",
       "employment_status           0\n",
       "location                    0\n",
       "interaction_count           0\n",
       "lead_score                  0\n",
       "converted                   0\n",
       "dtype: int64"
      ]
     },
     "execution_count": 34,
     "metadata": {},
     "output_type": "execute_result"
    }
   ],
   "source": [
    "df_copy.isnull().sum()"
   ]
  },
  {
   "cell_type": "markdown",
   "id": "3b1ea418",
   "metadata": {},
   "source": [
    "**Question 1: What is the most frequent observation (mode) for the column industry?**"
   ]
  },
  {
   "cell_type": "code",
   "execution_count": 35,
   "id": "a5034a11",
   "metadata": {},
   "outputs": [
    {
     "data": {
      "text/plain": [
       "retail           203\n",
       "finance          200\n",
       "other            198\n",
       "healthcare       187\n",
       "education        187\n",
       "technology       179\n",
       "manufacturing    174\n",
       "NA               134\n",
       "Name: industry, dtype: int64"
      ]
     },
     "execution_count": 35,
     "metadata": {},
     "output_type": "execute_result"
    }
   ],
   "source": [
    "# Check the most frequent observation mode for industry\n",
    "df_copy.industry.value_counts()"
   ]
  },
  {
   "cell_type": "markdown",
   "id": "10a08b56",
   "metadata": {},
   "source": [
    "**Question 2: What are the two features that have the biggest correlation?**"
   ]
  },
  {
   "cell_type": "code",
   "execution_count": 36,
   "id": "a88867d2",
   "metadata": {},
   "outputs": [],
   "source": [
    "# Split the dataset\n",
    "df_full_train,df_test = train_test_split(df_copy,test_size=0.2,random_state=42)"
   ]
  },
  {
   "cell_type": "code",
   "execution_count": 37,
   "id": "979f14b4",
   "metadata": {},
   "outputs": [
    {
     "data": {
      "text/plain": [
       "(1462, 1169, 293)"
      ]
     },
     "execution_count": 37,
     "metadata": {},
     "output_type": "execute_result"
    }
   ],
   "source": [
    "len(df_copy),len(df_full_train), len(df_test)"
   ]
  },
  {
   "cell_type": "code",
   "execution_count": 40,
   "id": "c37543ad",
   "metadata": {},
   "outputs": [],
   "source": [
    "df_train,df_val = train_test_split(df_full_train,test_size=0.25,random_state=1)"
   ]
  },
  {
   "cell_type": "code",
   "execution_count": 41,
   "id": "f714d44e",
   "metadata": {},
   "outputs": [
    {
     "data": {
      "text/plain": [
       "(1462, 876, 293, 293)"
      ]
     },
     "execution_count": 41,
     "metadata": {},
     "output_type": "execute_result"
    }
   ],
   "source": [
    "len(df_copy),len(df_train), len(df_test), len(df_val)"
   ]
  },
  {
   "cell_type": "code",
   "execution_count": 42,
   "id": "68552156",
   "metadata": {},
   "outputs": [],
   "source": [
    "df_train = df_train.reset_index(drop=True)\n",
    "df_test = df_test.reset_index(drop=True)\n",
    "df_val = df_val.reset_index(drop=True)"
   ]
  },
  {
   "cell_type": "code",
   "execution_count": 43,
   "id": "f63b677c",
   "metadata": {},
   "outputs": [],
   "source": [
    "y_train = df_train.converted.values\n",
    "y_test = df_test.converted.values\n",
    "y_val = df_val.converted.values"
   ]
  },
  {
   "cell_type": "code",
   "execution_count": 44,
   "id": "8f8c29c5",
   "metadata": {},
   "outputs": [],
   "source": [
    "del df_train['converted']\n",
    "del df_test['converted']\n",
    "del df_val['converted']"
   ]
  },
  {
   "cell_type": "code",
   "execution_count": 45,
   "id": "9be973c9",
   "metadata": {},
   "outputs": [
    {
     "data": {
      "text/plain": [
       "Index(['lead_source', 'industry', 'number_of_courses_viewed', 'annual_income',\n",
       "       'employment_status', 'location', 'interaction_count', 'lead_score'],\n",
       "      dtype='object')"
      ]
     },
     "execution_count": 45,
     "metadata": {},
     "output_type": "execute_result"
    }
   ],
   "source": [
    "# Check whether the target vaiable in X\n",
    "df_train.columns"
   ]
  },
  {
   "cell_type": "code",
   "execution_count": 46,
   "id": "25ce590e",
   "metadata": {},
   "outputs": [],
   "source": [
    "df_full_train = df_full_train.reset_index(drop=True)"
   ]
  },
  {
   "cell_type": "code",
   "execution_count": 47,
   "id": "ae2e33aa",
   "metadata": {},
   "outputs": [
    {
     "data": {
      "text/html": [
       "<div>\n",
       "<style scoped>\n",
       "    .dataframe tbody tr th:only-of-type {\n",
       "        vertical-align: middle;\n",
       "    }\n",
       "\n",
       "    .dataframe tbody tr th {\n",
       "        vertical-align: top;\n",
       "    }\n",
       "\n",
       "    .dataframe thead th {\n",
       "        text-align: right;\n",
       "    }\n",
       "</style>\n",
       "<table border=\"1\" class=\"dataframe\">\n",
       "  <thead>\n",
       "    <tr style=\"text-align: right;\">\n",
       "      <th></th>\n",
       "      <th>lead_source</th>\n",
       "      <th>industry</th>\n",
       "      <th>number_of_courses_viewed</th>\n",
       "      <th>annual_income</th>\n",
       "      <th>employment_status</th>\n",
       "      <th>location</th>\n",
       "      <th>interaction_count</th>\n",
       "      <th>lead_score</th>\n",
       "      <th>converted</th>\n",
       "    </tr>\n",
       "  </thead>\n",
       "  <tbody>\n",
       "    <tr>\n",
       "      <th>0</th>\n",
       "      <td>social_media</td>\n",
       "      <td>manufacturing</td>\n",
       "      <td>2</td>\n",
       "      <td>44403.0</td>\n",
       "      <td>self_employed</td>\n",
       "      <td>australia</td>\n",
       "      <td>1</td>\n",
       "      <td>0.71</td>\n",
       "      <td>0</td>\n",
       "    </tr>\n",
       "    <tr>\n",
       "      <th>1</th>\n",
       "      <td>events</td>\n",
       "      <td>retail</td>\n",
       "      <td>3</td>\n",
       "      <td>38048.0</td>\n",
       "      <td>student</td>\n",
       "      <td>north_america</td>\n",
       "      <td>6</td>\n",
       "      <td>0.97</td>\n",
       "      <td>1</td>\n",
       "    </tr>\n",
       "    <tr>\n",
       "      <th>2</th>\n",
       "      <td>social_media</td>\n",
       "      <td>education</td>\n",
       "      <td>2</td>\n",
       "      <td>71399.0</td>\n",
       "      <td>NA</td>\n",
       "      <td>europe</td>\n",
       "      <td>1</td>\n",
       "      <td>0.51</td>\n",
       "      <td>1</td>\n",
       "    </tr>\n",
       "    <tr>\n",
       "      <th>3</th>\n",
       "      <td>referral</td>\n",
       "      <td>education</td>\n",
       "      <td>2</td>\n",
       "      <td>47912.0</td>\n",
       "      <td>employed</td>\n",
       "      <td>australia</td>\n",
       "      <td>1</td>\n",
       "      <td>0.04</td>\n",
       "      <td>0</td>\n",
       "    </tr>\n",
       "    <tr>\n",
       "      <th>4</th>\n",
       "      <td>paid_ads</td>\n",
       "      <td>healthcare</td>\n",
       "      <td>1</td>\n",
       "      <td>34806.0</td>\n",
       "      <td>employed</td>\n",
       "      <td>europe</td>\n",
       "      <td>4</td>\n",
       "      <td>0.32</td>\n",
       "      <td>1</td>\n",
       "    </tr>\n",
       "    <tr>\n",
       "      <th>...</th>\n",
       "      <td>...</td>\n",
       "      <td>...</td>\n",
       "      <td>...</td>\n",
       "      <td>...</td>\n",
       "      <td>...</td>\n",
       "      <td>...</td>\n",
       "      <td>...</td>\n",
       "      <td>...</td>\n",
       "      <td>...</td>\n",
       "    </tr>\n",
       "    <tr>\n",
       "      <th>1164</th>\n",
       "      <td>events</td>\n",
       "      <td>manufacturing</td>\n",
       "      <td>1</td>\n",
       "      <td>57039.0</td>\n",
       "      <td>employed</td>\n",
       "      <td>south_america</td>\n",
       "      <td>2</td>\n",
       "      <td>0.30</td>\n",
       "      <td>0</td>\n",
       "    </tr>\n",
       "    <tr>\n",
       "      <th>1165</th>\n",
       "      <td>events</td>\n",
       "      <td>healthcare</td>\n",
       "      <td>2</td>\n",
       "      <td>56185.0</td>\n",
       "      <td>student</td>\n",
       "      <td>south_america</td>\n",
       "      <td>2</td>\n",
       "      <td>0.44</td>\n",
       "      <td>0</td>\n",
       "    </tr>\n",
       "    <tr>\n",
       "      <th>1166</th>\n",
       "      <td>paid_ads</td>\n",
       "      <td>manufacturing</td>\n",
       "      <td>1</td>\n",
       "      <td>56402.0</td>\n",
       "      <td>student</td>\n",
       "      <td>north_america</td>\n",
       "      <td>1</td>\n",
       "      <td>0.02</td>\n",
       "      <td>0</td>\n",
       "    </tr>\n",
       "    <tr>\n",
       "      <th>1167</th>\n",
       "      <td>paid_ads</td>\n",
       "      <td>technology</td>\n",
       "      <td>1</td>\n",
       "      <td>45688.0</td>\n",
       "      <td>student</td>\n",
       "      <td>north_america</td>\n",
       "      <td>3</td>\n",
       "      <td>0.02</td>\n",
       "      <td>1</td>\n",
       "    </tr>\n",
       "    <tr>\n",
       "      <th>1168</th>\n",
       "      <td>events</td>\n",
       "      <td>manufacturing</td>\n",
       "      <td>0</td>\n",
       "      <td>43862.0</td>\n",
       "      <td>self_employed</td>\n",
       "      <td>asia</td>\n",
       "      <td>4</td>\n",
       "      <td>0.21</td>\n",
       "      <td>0</td>\n",
       "    </tr>\n",
       "  </tbody>\n",
       "</table>\n",
       "<p>1169 rows × 9 columns</p>\n",
       "</div>"
      ],
      "text/plain": [
       "       lead_source       industry  number_of_courses_viewed  annual_income  \\\n",
       "0     social_media  manufacturing                         2        44403.0   \n",
       "1           events         retail                         3        38048.0   \n",
       "2     social_media      education                         2        71399.0   \n",
       "3         referral      education                         2        47912.0   \n",
       "4         paid_ads     healthcare                         1        34806.0   \n",
       "...            ...            ...                       ...            ...   \n",
       "1164        events  manufacturing                         1        57039.0   \n",
       "1165        events     healthcare                         2        56185.0   \n",
       "1166      paid_ads  manufacturing                         1        56402.0   \n",
       "1167      paid_ads     technology                         1        45688.0   \n",
       "1168        events  manufacturing                         0        43862.0   \n",
       "\n",
       "     employment_status       location  interaction_count  lead_score  \\\n",
       "0        self_employed      australia                  1        0.71   \n",
       "1              student  north_america                  6        0.97   \n",
       "2                   NA         europe                  1        0.51   \n",
       "3             employed      australia                  1        0.04   \n",
       "4             employed         europe                  4        0.32   \n",
       "...                ...            ...                ...         ...   \n",
       "1164          employed  south_america                  2        0.30   \n",
       "1165           student  south_america                  2        0.44   \n",
       "1166           student  north_america                  1        0.02   \n",
       "1167           student  north_america                  3        0.02   \n",
       "1168     self_employed           asia                  4        0.21   \n",
       "\n",
       "      converted  \n",
       "0             0  \n",
       "1             1  \n",
       "2             1  \n",
       "3             0  \n",
       "4             1  \n",
       "...         ...  \n",
       "1164          0  \n",
       "1165          0  \n",
       "1166          0  \n",
       "1167          1  \n",
       "1168          0  \n",
       "\n",
       "[1169 rows x 9 columns]"
      ]
     },
     "execution_count": 47,
     "metadata": {},
     "output_type": "execute_result"
    }
   ],
   "source": [
    "df_full_train"
   ]
  },
  {
   "cell_type": "code",
   "execution_count": 51,
   "id": "b66d951f",
   "metadata": {},
   "outputs": [],
   "source": [
    "# Compute the correlation\n",
    "corr_socre = df_full_train[numerical].corrwith(df_full_train.converted)"
   ]
  },
  {
   "cell_type": "code",
   "execution_count": 56,
   "id": "fefead0a",
   "metadata": {},
   "outputs": [
    {
     "data": {
      "text/plain": [
       "number_of_courses_viewed    0.442068\n",
       "interaction_count           0.378482\n",
       "lead_score                  0.225641\n",
       "annual_income               0.029612\n",
       "dtype: float64"
      ]
     },
     "execution_count": 56,
     "metadata": {},
     "output_type": "execute_result"
    }
   ],
   "source": [
    "corr_socre.sort_values(ascending=False)"
   ]
  },
  {
   "cell_type": "code",
   "execution_count": 57,
   "id": "86f5083d",
   "metadata": {},
   "outputs": [
    {
     "data": {
      "text/html": [
       "<div>\n",
       "<style scoped>\n",
       "    .dataframe tbody tr th:only-of-type {\n",
       "        vertical-align: middle;\n",
       "    }\n",
       "\n",
       "    .dataframe tbody tr th {\n",
       "        vertical-align: top;\n",
       "    }\n",
       "\n",
       "    .dataframe thead th {\n",
       "        text-align: right;\n",
       "    }\n",
       "</style>\n",
       "<table border=\"1\" class=\"dataframe\">\n",
       "  <thead>\n",
       "    <tr style=\"text-align: right;\">\n",
       "      <th></th>\n",
       "      <th>number_of_courses_viewed</th>\n",
       "      <th>annual_income</th>\n",
       "      <th>interaction_count</th>\n",
       "      <th>lead_score</th>\n",
       "    </tr>\n",
       "  </thead>\n",
       "  <tbody>\n",
       "    <tr>\n",
       "      <th>number_of_courses_viewed</th>\n",
       "      <td>1.000000</td>\n",
       "      <td>0.012227</td>\n",
       "      <td>-0.044381</td>\n",
       "      <td>0.009427</td>\n",
       "    </tr>\n",
       "    <tr>\n",
       "      <th>annual_income</th>\n",
       "      <td>0.012227</td>\n",
       "      <td>1.000000</td>\n",
       "      <td>0.011959</td>\n",
       "      <td>0.021273</td>\n",
       "    </tr>\n",
       "    <tr>\n",
       "      <th>interaction_count</th>\n",
       "      <td>-0.044381</td>\n",
       "      <td>0.011959</td>\n",
       "      <td>1.000000</td>\n",
       "      <td>0.025393</td>\n",
       "    </tr>\n",
       "    <tr>\n",
       "      <th>lead_score</th>\n",
       "      <td>0.009427</td>\n",
       "      <td>0.021273</td>\n",
       "      <td>0.025393</td>\n",
       "      <td>1.000000</td>\n",
       "    </tr>\n",
       "  </tbody>\n",
       "</table>\n",
       "</div>"
      ],
      "text/plain": [
       "                          number_of_courses_viewed  annual_income  \\\n",
       "number_of_courses_viewed                  1.000000       0.012227   \n",
       "annual_income                             0.012227       1.000000   \n",
       "interaction_count                        -0.044381       0.011959   \n",
       "lead_score                                0.009427       0.021273   \n",
       "\n",
       "                          interaction_count  lead_score  \n",
       "number_of_courses_viewed          -0.044381    0.009427  \n",
       "annual_income                      0.011959    0.021273  \n",
       "interaction_count                  1.000000    0.025393  \n",
       "lead_score                         0.025393    1.000000  "
      ]
     },
     "execution_count": 57,
     "metadata": {},
     "output_type": "execute_result"
    }
   ],
   "source": [
    "corr_matrix = df_full_train[numerical].corr()\n",
    "corr_matrix"
   ]
  },
  {
   "cell_type": "code",
   "execution_count": 58,
   "id": "0058ce4b",
   "metadata": {
    "scrolled": false
   },
   "outputs": [
    {
     "data": {
      "text/html": [
       "<div>\n",
       "<style scoped>\n",
       "    .dataframe tbody tr th:only-of-type {\n",
       "        vertical-align: middle;\n",
       "    }\n",
       "\n",
       "    .dataframe tbody tr th {\n",
       "        vertical-align: top;\n",
       "    }\n",
       "\n",
       "    .dataframe thead th {\n",
       "        text-align: right;\n",
       "    }\n",
       "</style>\n",
       "<table border=\"1\" class=\"dataframe\">\n",
       "  <thead>\n",
       "    <tr style=\"text-align: right;\">\n",
       "      <th></th>\n",
       "      <th>number_of_courses_viewed</th>\n",
       "      <th>annual_income</th>\n",
       "      <th>interaction_count</th>\n",
       "      <th>lead_score</th>\n",
       "    </tr>\n",
       "  </thead>\n",
       "  <tbody>\n",
       "    <tr>\n",
       "      <th>number_of_courses_viewed</th>\n",
       "      <td>1.000000</td>\n",
       "      <td>0.012227</td>\n",
       "      <td>0.044381</td>\n",
       "      <td>0.009427</td>\n",
       "    </tr>\n",
       "    <tr>\n",
       "      <th>annual_income</th>\n",
       "      <td>0.012227</td>\n",
       "      <td>1.000000</td>\n",
       "      <td>0.011959</td>\n",
       "      <td>0.021273</td>\n",
       "    </tr>\n",
       "    <tr>\n",
       "      <th>interaction_count</th>\n",
       "      <td>0.044381</td>\n",
       "      <td>0.011959</td>\n",
       "      <td>1.000000</td>\n",
       "      <td>0.025393</td>\n",
       "    </tr>\n",
       "    <tr>\n",
       "      <th>lead_score</th>\n",
       "      <td>0.009427</td>\n",
       "      <td>0.021273</td>\n",
       "      <td>0.025393</td>\n",
       "      <td>1.000000</td>\n",
       "    </tr>\n",
       "  </tbody>\n",
       "</table>\n",
       "</div>"
      ],
      "text/plain": [
       "                          number_of_courses_viewed  annual_income  \\\n",
       "number_of_courses_viewed                  1.000000       0.012227   \n",
       "annual_income                             0.012227       1.000000   \n",
       "interaction_count                         0.044381       0.011959   \n",
       "lead_score                                0.009427       0.021273   \n",
       "\n",
       "                          interaction_count  lead_score  \n",
       "number_of_courses_viewed           0.044381    0.009427  \n",
       "annual_income                      0.011959    0.021273  \n",
       "interaction_count                  1.000000    0.025393  \n",
       "lead_score                         0.025393    1.000000  "
      ]
     },
     "execution_count": 58,
     "metadata": {},
     "output_type": "execute_result"
    }
   ],
   "source": [
    "corr_matrix.abs()"
   ]
  },
  {
   "cell_type": "markdown",
   "id": "ad3a11d2",
   "metadata": {},
   "source": [
    "**Question 3: Which of these variables has the biggest mutual information score?**"
   ]
  },
  {
   "cell_type": "code",
   "execution_count": 59,
   "id": "521bdff0",
   "metadata": {},
   "outputs": [],
   "source": [
    "from sklearn.metrics import mutual_info_score"
   ]
  },
  {
   "cell_type": "code",
   "execution_count": 62,
   "id": "de3b638d",
   "metadata": {},
   "outputs": [],
   "source": [
    "def mutaol_info_converted_socre(series):\n",
    "    return mutual_info_score(series, df_full_train.converted)"
   ]
  },
  {
   "cell_type": "code",
   "execution_count": 63,
   "id": "c30a10cd",
   "metadata": {},
   "outputs": [
    {
     "data": {
      "text/plain": [
       "lead_source          0.025665\n",
       "employment_status    0.013258\n",
       "industry             0.011685\n",
       "location             0.002253\n",
       "dtype: float64"
      ]
     },
     "execution_count": 63,
     "metadata": {},
     "output_type": "execute_result"
    }
   ],
   "source": [
    "mi = df_full_train[categorical].apply(mutaol_info_converted_socre)\n",
    "mi.sort_values(ascending=False)"
   ]
  },
  {
   "cell_type": "markdown",
   "id": "92fb6861",
   "metadata": {},
   "source": [
    "**Question 4: What accuracy did you get?**"
   ]
  },
  {
   "cell_type": "code",
   "execution_count": 64,
   "id": "e4b9d294",
   "metadata": {},
   "outputs": [],
   "source": [
    "from sklearn.feature_extraction import DictVectorizer\n",
    "from sklearn.linear_model import LogisticRegression"
   ]
  },
  {
   "cell_type": "code",
   "execution_count": 65,
   "id": "a125bf35",
   "metadata": {},
   "outputs": [],
   "source": [
    "dv = DictVectorizer(sparse= False)"
   ]
  },
  {
   "cell_type": "code",
   "execution_count": 80,
   "id": "91580bbd",
   "metadata": {},
   "outputs": [],
   "source": [
    "model = LogisticRegression(solver='liblinear', C=1.0, max_iter=1000, random_state=42)"
   ]
  },
  {
   "cell_type": "code",
   "execution_count": 81,
   "id": "0f8199f0",
   "metadata": {},
   "outputs": [],
   "source": [
    "def sigmoid(z):\n",
    "    return 1/(1+np.exp(-z))"
   ]
  },
  {
   "cell_type": "code",
   "execution_count": 82,
   "id": "ec6aafbe",
   "metadata": {},
   "outputs": [],
   "source": [
    "train_dicts = df_train[categorical + numerical].to_dict(orient='records')"
   ]
  },
  {
   "cell_type": "code",
   "execution_count": 83,
   "id": "4be03138",
   "metadata": {},
   "outputs": [
    {
     "data": {
      "text/html": [
       "<style>#sk-container-id-3 {color: black;background-color: white;}#sk-container-id-3 pre{padding: 0;}#sk-container-id-3 div.sk-toggleable {background-color: white;}#sk-container-id-3 label.sk-toggleable__label {cursor: pointer;display: block;width: 100%;margin-bottom: 0;padding: 0.3em;box-sizing: border-box;text-align: center;}#sk-container-id-3 label.sk-toggleable__label-arrow:before {content: \"▸\";float: left;margin-right: 0.25em;color: #696969;}#sk-container-id-3 label.sk-toggleable__label-arrow:hover:before {color: black;}#sk-container-id-3 div.sk-estimator:hover label.sk-toggleable__label-arrow:before {color: black;}#sk-container-id-3 div.sk-toggleable__content {max-height: 0;max-width: 0;overflow: hidden;text-align: left;background-color: #f0f8ff;}#sk-container-id-3 div.sk-toggleable__content pre {margin: 0.2em;color: black;border-radius: 0.25em;background-color: #f0f8ff;}#sk-container-id-3 input.sk-toggleable__control:checked~div.sk-toggleable__content {max-height: 200px;max-width: 100%;overflow: auto;}#sk-container-id-3 input.sk-toggleable__control:checked~label.sk-toggleable__label-arrow:before {content: \"▾\";}#sk-container-id-3 div.sk-estimator input.sk-toggleable__control:checked~label.sk-toggleable__label {background-color: #d4ebff;}#sk-container-id-3 div.sk-label input.sk-toggleable__control:checked~label.sk-toggleable__label {background-color: #d4ebff;}#sk-container-id-3 input.sk-hidden--visually {border: 0;clip: rect(1px 1px 1px 1px);clip: rect(1px, 1px, 1px, 1px);height: 1px;margin: -1px;overflow: hidden;padding: 0;position: absolute;width: 1px;}#sk-container-id-3 div.sk-estimator {font-family: monospace;background-color: #f0f8ff;border: 1px dotted black;border-radius: 0.25em;box-sizing: border-box;margin-bottom: 0.5em;}#sk-container-id-3 div.sk-estimator:hover {background-color: #d4ebff;}#sk-container-id-3 div.sk-parallel-item::after {content: \"\";width: 100%;border-bottom: 1px solid gray;flex-grow: 1;}#sk-container-id-3 div.sk-label:hover label.sk-toggleable__label {background-color: #d4ebff;}#sk-container-id-3 div.sk-serial::before {content: \"\";position: absolute;border-left: 1px solid gray;box-sizing: border-box;top: 0;bottom: 0;left: 50%;z-index: 0;}#sk-container-id-3 div.sk-serial {display: flex;flex-direction: column;align-items: center;background-color: white;padding-right: 0.2em;padding-left: 0.2em;position: relative;}#sk-container-id-3 div.sk-item {position: relative;z-index: 1;}#sk-container-id-3 div.sk-parallel {display: flex;align-items: stretch;justify-content: center;background-color: white;position: relative;}#sk-container-id-3 div.sk-item::before, #sk-container-id-3 div.sk-parallel-item::before {content: \"\";position: absolute;border-left: 1px solid gray;box-sizing: border-box;top: 0;bottom: 0;left: 50%;z-index: -1;}#sk-container-id-3 div.sk-parallel-item {display: flex;flex-direction: column;z-index: 1;position: relative;background-color: white;}#sk-container-id-3 div.sk-parallel-item:first-child::after {align-self: flex-end;width: 50%;}#sk-container-id-3 div.sk-parallel-item:last-child::after {align-self: flex-start;width: 50%;}#sk-container-id-3 div.sk-parallel-item:only-child::after {width: 0;}#sk-container-id-3 div.sk-dashed-wrapped {border: 1px dashed gray;margin: 0 0.4em 0.5em 0.4em;box-sizing: border-box;padding-bottom: 0.4em;background-color: white;}#sk-container-id-3 div.sk-label label {font-family: monospace;font-weight: bold;display: inline-block;line-height: 1.2em;}#sk-container-id-3 div.sk-label-container {text-align: center;}#sk-container-id-3 div.sk-container {/* jupyter's `normalize.less` sets `[hidden] { display: none; }` but bootstrap.min.css set `[hidden] { display: none !important; }` so we also need the `!important` here to be able to override the default hidden behavior on the sphinx rendered scikit-learn.org. See: https://github.com/scikit-learn/scikit-learn/issues/21755 */display: inline-block !important;position: relative;}#sk-container-id-3 div.sk-text-repr-fallback {display: none;}</style><div id=\"sk-container-id-3\" class=\"sk-top-container\"><div class=\"sk-text-repr-fallback\"><pre>DictVectorizer(sparse=False)</pre><b>In a Jupyter environment, please rerun this cell to show the HTML representation or trust the notebook. <br />On GitHub, the HTML representation is unable to render, please try loading this page with nbviewer.org.</b></div><div class=\"sk-container\" hidden><div class=\"sk-item\"><div class=\"sk-estimator sk-toggleable\"><input class=\"sk-toggleable__control sk-hidden--visually\" id=\"sk-estimator-id-3\" type=\"checkbox\" checked><label for=\"sk-estimator-id-3\" class=\"sk-toggleable__label sk-toggleable__label-arrow\">DictVectorizer</label><div class=\"sk-toggleable__content\"><pre>DictVectorizer(sparse=False)</pre></div></div></div></div></div>"
      ],
      "text/plain": [
       "DictVectorizer(sparse=False)"
      ]
     },
     "execution_count": 83,
     "metadata": {},
     "output_type": "execute_result"
    }
   ],
   "source": [
    "dv.fit(train_dicts)"
   ]
  },
  {
   "cell_type": "code",
   "execution_count": 84,
   "id": "918a20bd",
   "metadata": {},
   "outputs": [
    {
     "data": {
      "text/plain": [
       "array(['annual_income', 'employment_status=NA',\n",
       "       'employment_status=employed', 'employment_status=self_employed',\n",
       "       'employment_status=student', 'employment_status=unemployed',\n",
       "       'industry=NA', 'industry=education', 'industry=finance',\n",
       "       'industry=healthcare', 'industry=manufacturing', 'industry=other',\n",
       "       'industry=retail', 'industry=technology', 'interaction_count',\n",
       "       'lead_score', 'lead_source=NA', 'lead_source=events',\n",
       "       'lead_source=organic_search', 'lead_source=paid_ads',\n",
       "       'lead_source=referral', 'lead_source=social_media', 'location=NA',\n",
       "       'location=africa', 'location=asia', 'location=australia',\n",
       "       'location=europe', 'location=middle_east',\n",
       "       'location=north_america', 'location=south_america',\n",
       "       'number_of_courses_viewed'], dtype=object)"
      ]
     },
     "execution_count": 84,
     "metadata": {},
     "output_type": "execute_result"
    }
   ],
   "source": [
    "dv.get_feature_names_out()"
   ]
  },
  {
   "cell_type": "code",
   "execution_count": 85,
   "id": "fe75d97a",
   "metadata": {},
   "outputs": [
    {
     "data": {
      "text/plain": [
       "array([[0.  , 0.  , 0.  , 0.  , 1.  , 0.  , 0.  , 0.  , 0.  , 0.  , 0.  ,\n",
       "        0.  , 1.  , 0.  , 4.  , 0.47, 0.  , 0.  , 1.  , 0.  , 0.  , 0.  ,\n",
       "        0.  , 0.  , 1.  , 0.  , 0.  , 0.  , 0.  , 0.  , 1.  ]])"
      ]
     },
     "execution_count": 85,
     "metadata": {},
     "output_type": "execute_result"
    }
   ],
   "source": [
    "dv.transform(train_dicts[:5][0])"
   ]
  },
  {
   "cell_type": "code",
   "execution_count": 86,
   "id": "d1df7f71",
   "metadata": {},
   "outputs": [],
   "source": [
    "X_train = dv.transform(train_dicts)"
   ]
  },
  {
   "cell_type": "code",
   "execution_count": 87,
   "id": "ff06da29",
   "metadata": {},
   "outputs": [
    {
     "data": {
      "text/plain": [
       "(876, 31)"
      ]
     },
     "execution_count": 87,
     "metadata": {},
     "output_type": "execute_result"
    }
   ],
   "source": [
    "X_train.shape"
   ]
  },
  {
   "cell_type": "code",
   "execution_count": 88,
   "id": "63690bcc",
   "metadata": {},
   "outputs": [
    {
     "data": {
      "text/plain": [
       "(876, 31)"
      ]
     },
     "execution_count": 88,
     "metadata": {},
     "output_type": "execute_result"
    }
   ],
   "source": [
    "X_train = dv.fit_transform(train_dicts)\n",
    "X_train.shape"
   ]
  },
  {
   "cell_type": "code",
   "execution_count": 89,
   "id": "bd054f34",
   "metadata": {},
   "outputs": [],
   "source": [
    "val_dicts = df_val[categorical + numerical].to_dict(orient='records')"
   ]
  },
  {
   "cell_type": "code",
   "execution_count": 124,
   "id": "a243e8f2",
   "metadata": {},
   "outputs": [],
   "source": [
    "X_val = dv.transform(val_dicts)"
   ]
  },
  {
   "cell_type": "code",
   "execution_count": 125,
   "id": "b086e1ec",
   "metadata": {},
   "outputs": [
    {
     "data": {
      "text/html": [
       "<style>#sk-container-id-5 {color: black;background-color: white;}#sk-container-id-5 pre{padding: 0;}#sk-container-id-5 div.sk-toggleable {background-color: white;}#sk-container-id-5 label.sk-toggleable__label {cursor: pointer;display: block;width: 100%;margin-bottom: 0;padding: 0.3em;box-sizing: border-box;text-align: center;}#sk-container-id-5 label.sk-toggleable__label-arrow:before {content: \"▸\";float: left;margin-right: 0.25em;color: #696969;}#sk-container-id-5 label.sk-toggleable__label-arrow:hover:before {color: black;}#sk-container-id-5 div.sk-estimator:hover label.sk-toggleable__label-arrow:before {color: black;}#sk-container-id-5 div.sk-toggleable__content {max-height: 0;max-width: 0;overflow: hidden;text-align: left;background-color: #f0f8ff;}#sk-container-id-5 div.sk-toggleable__content pre {margin: 0.2em;color: black;border-radius: 0.25em;background-color: #f0f8ff;}#sk-container-id-5 input.sk-toggleable__control:checked~div.sk-toggleable__content {max-height: 200px;max-width: 100%;overflow: auto;}#sk-container-id-5 input.sk-toggleable__control:checked~label.sk-toggleable__label-arrow:before {content: \"▾\";}#sk-container-id-5 div.sk-estimator input.sk-toggleable__control:checked~label.sk-toggleable__label {background-color: #d4ebff;}#sk-container-id-5 div.sk-label input.sk-toggleable__control:checked~label.sk-toggleable__label {background-color: #d4ebff;}#sk-container-id-5 input.sk-hidden--visually {border: 0;clip: rect(1px 1px 1px 1px);clip: rect(1px, 1px, 1px, 1px);height: 1px;margin: -1px;overflow: hidden;padding: 0;position: absolute;width: 1px;}#sk-container-id-5 div.sk-estimator {font-family: monospace;background-color: #f0f8ff;border: 1px dotted black;border-radius: 0.25em;box-sizing: border-box;margin-bottom: 0.5em;}#sk-container-id-5 div.sk-estimator:hover {background-color: #d4ebff;}#sk-container-id-5 div.sk-parallel-item::after {content: \"\";width: 100%;border-bottom: 1px solid gray;flex-grow: 1;}#sk-container-id-5 div.sk-label:hover label.sk-toggleable__label {background-color: #d4ebff;}#sk-container-id-5 div.sk-serial::before {content: \"\";position: absolute;border-left: 1px solid gray;box-sizing: border-box;top: 0;bottom: 0;left: 50%;z-index: 0;}#sk-container-id-5 div.sk-serial {display: flex;flex-direction: column;align-items: center;background-color: white;padding-right: 0.2em;padding-left: 0.2em;position: relative;}#sk-container-id-5 div.sk-item {position: relative;z-index: 1;}#sk-container-id-5 div.sk-parallel {display: flex;align-items: stretch;justify-content: center;background-color: white;position: relative;}#sk-container-id-5 div.sk-item::before, #sk-container-id-5 div.sk-parallel-item::before {content: \"\";position: absolute;border-left: 1px solid gray;box-sizing: border-box;top: 0;bottom: 0;left: 50%;z-index: -1;}#sk-container-id-5 div.sk-parallel-item {display: flex;flex-direction: column;z-index: 1;position: relative;background-color: white;}#sk-container-id-5 div.sk-parallel-item:first-child::after {align-self: flex-end;width: 50%;}#sk-container-id-5 div.sk-parallel-item:last-child::after {align-self: flex-start;width: 50%;}#sk-container-id-5 div.sk-parallel-item:only-child::after {width: 0;}#sk-container-id-5 div.sk-dashed-wrapped {border: 1px dashed gray;margin: 0 0.4em 0.5em 0.4em;box-sizing: border-box;padding-bottom: 0.4em;background-color: white;}#sk-container-id-5 div.sk-label label {font-family: monospace;font-weight: bold;display: inline-block;line-height: 1.2em;}#sk-container-id-5 div.sk-label-container {text-align: center;}#sk-container-id-5 div.sk-container {/* jupyter's `normalize.less` sets `[hidden] { display: none; }` but bootstrap.min.css set `[hidden] { display: none !important; }` so we also need the `!important` here to be able to override the default hidden behavior on the sphinx rendered scikit-learn.org. See: https://github.com/scikit-learn/scikit-learn/issues/21755 */display: inline-block !important;position: relative;}#sk-container-id-5 div.sk-text-repr-fallback {display: none;}</style><div id=\"sk-container-id-5\" class=\"sk-top-container\"><div class=\"sk-text-repr-fallback\"><pre>LogisticRegression(max_iter=1000, random_state=42, solver=&#x27;liblinear&#x27;)</pre><b>In a Jupyter environment, please rerun this cell to show the HTML representation or trust the notebook. <br />On GitHub, the HTML representation is unable to render, please try loading this page with nbviewer.org.</b></div><div class=\"sk-container\" hidden><div class=\"sk-item\"><div class=\"sk-estimator sk-toggleable\"><input class=\"sk-toggleable__control sk-hidden--visually\" id=\"sk-estimator-id-5\" type=\"checkbox\" checked><label for=\"sk-estimator-id-5\" class=\"sk-toggleable__label sk-toggleable__label-arrow\">LogisticRegression</label><div class=\"sk-toggleable__content\"><pre>LogisticRegression(max_iter=1000, random_state=42, solver=&#x27;liblinear&#x27;)</pre></div></div></div></div></div>"
      ],
      "text/plain": [
       "LogisticRegression(max_iter=1000, random_state=42, solver='liblinear')"
      ]
     },
     "execution_count": 125,
     "metadata": {},
     "output_type": "execute_result"
    }
   ],
   "source": [
    "model.fit(X_train,y_train)"
   ]
  },
  {
   "cell_type": "code",
   "execution_count": 126,
   "id": "eb05c06d",
   "metadata": {},
   "outputs": [
    {
     "data": {
      "text/plain": [
       "-0.221349834455288"
      ]
     },
     "execution_count": 126,
     "metadata": {},
     "output_type": "execute_result"
    }
   ],
   "source": [
    "model.intercept_[0]"
   ]
  },
  {
   "cell_type": "code",
   "execution_count": 127,
   "id": "c2417a07",
   "metadata": {},
   "outputs": [
    {
     "data": {
      "text/plain": [
       "array([-0.  , -0.01,  0.07, -0.01, -0.  , -0.27, -0.07,  0.11, -0.07,\n",
       "       -0.03, -0.02, -0.04, -0.06, -0.04,  0.42,  0.08,  0.  , -0.06,\n",
       "       -0.03, -0.23,  0.14, -0.04,  0.  , -0.05, -0.03, -0.01, -0.02,\n",
       "       -0.01, -0.06, -0.05,  0.74])"
      ]
     },
     "execution_count": 127,
     "metadata": {},
     "output_type": "execute_result"
    }
   ],
   "source": [
    "model.coef_[0].round(2)"
   ]
  },
  {
   "cell_type": "code",
   "execution_count": 128,
   "id": "b56c66e2",
   "metadata": {},
   "outputs": [],
   "source": [
    "y_pred = model.predict_proba(X_val)[:,1]"
   ]
  },
  {
   "cell_type": "code",
   "execution_count": 130,
   "id": "99e847d3",
   "metadata": {},
   "outputs": [],
   "source": [
    "converted_result = (y_pred >=0.5)"
   ]
  },
  {
   "cell_type": "code",
   "execution_count": 131,
   "id": "c24f736a",
   "metadata": {},
   "outputs": [
    {
     "data": {
      "text/plain": [
       "0.74"
      ]
     },
     "execution_count": 131,
     "metadata": {},
     "output_type": "execute_result"
    }
   ],
   "source": [
    "acc_socre = (y_val==converted_result).mean()\n",
    "round(acc_socre,2)"
   ]
  },
  {
   "cell_type": "code",
   "execution_count": 132,
   "id": "8712e0b8",
   "metadata": {},
   "outputs": [],
   "source": [
    "df_pred = pd.DataFrame()\n",
    "df_pred['probability'] = y_pred\n",
    "df_pred['prediction'] = converted_result.astype(int)\n",
    "df_pred['actual'] = y_val"
   ]
  },
  {
   "cell_type": "code",
   "execution_count": 133,
   "id": "dca0599e",
   "metadata": {},
   "outputs": [],
   "source": [
    "df_pred['correct'] = df_pred.prediction == df_pred.actual"
   ]
  },
  {
   "cell_type": "code",
   "execution_count": 134,
   "id": "2447e7f8",
   "metadata": {},
   "outputs": [
    {
     "data": {
      "text/html": [
       "<div>\n",
       "<style scoped>\n",
       "    .dataframe tbody tr th:only-of-type {\n",
       "        vertical-align: middle;\n",
       "    }\n",
       "\n",
       "    .dataframe tbody tr th {\n",
       "        vertical-align: top;\n",
       "    }\n",
       "\n",
       "    .dataframe thead th {\n",
       "        text-align: right;\n",
       "    }\n",
       "</style>\n",
       "<table border=\"1\" class=\"dataframe\">\n",
       "  <thead>\n",
       "    <tr style=\"text-align: right;\">\n",
       "      <th></th>\n",
       "      <th>probability</th>\n",
       "      <th>prediction</th>\n",
       "      <th>actual</th>\n",
       "      <th>correct</th>\n",
       "    </tr>\n",
       "  </thead>\n",
       "  <tbody>\n",
       "    <tr>\n",
       "      <th>0</th>\n",
       "      <td>0.870271</td>\n",
       "      <td>1</td>\n",
       "      <td>1</td>\n",
       "      <td>True</td>\n",
       "    </tr>\n",
       "    <tr>\n",
       "      <th>1</th>\n",
       "      <td>0.837765</td>\n",
       "      <td>1</td>\n",
       "      <td>1</td>\n",
       "      <td>True</td>\n",
       "    </tr>\n",
       "    <tr>\n",
       "      <th>2</th>\n",
       "      <td>0.906976</td>\n",
       "      <td>1</td>\n",
       "      <td>0</td>\n",
       "      <td>False</td>\n",
       "    </tr>\n",
       "    <tr>\n",
       "      <th>3</th>\n",
       "      <td>0.818369</td>\n",
       "      <td>1</td>\n",
       "      <td>1</td>\n",
       "      <td>True</td>\n",
       "    </tr>\n",
       "    <tr>\n",
       "      <th>4</th>\n",
       "      <td>0.947875</td>\n",
       "      <td>1</td>\n",
       "      <td>1</td>\n",
       "      <td>True</td>\n",
       "    </tr>\n",
       "    <tr>\n",
       "      <th>...</th>\n",
       "      <td>...</td>\n",
       "      <td>...</td>\n",
       "      <td>...</td>\n",
       "      <td>...</td>\n",
       "    </tr>\n",
       "    <tr>\n",
       "      <th>288</th>\n",
       "      <td>0.221139</td>\n",
       "      <td>0</td>\n",
       "      <td>0</td>\n",
       "      <td>True</td>\n",
       "    </tr>\n",
       "    <tr>\n",
       "      <th>289</th>\n",
       "      <td>0.833416</td>\n",
       "      <td>1</td>\n",
       "      <td>1</td>\n",
       "      <td>True</td>\n",
       "    </tr>\n",
       "    <tr>\n",
       "      <th>290</th>\n",
       "      <td>0.308632</td>\n",
       "      <td>0</td>\n",
       "      <td>0</td>\n",
       "      <td>True</td>\n",
       "    </tr>\n",
       "    <tr>\n",
       "      <th>291</th>\n",
       "      <td>0.578500</td>\n",
       "      <td>1</td>\n",
       "      <td>1</td>\n",
       "      <td>True</td>\n",
       "    </tr>\n",
       "    <tr>\n",
       "      <th>292</th>\n",
       "      <td>0.625633</td>\n",
       "      <td>1</td>\n",
       "      <td>0</td>\n",
       "      <td>False</td>\n",
       "    </tr>\n",
       "  </tbody>\n",
       "</table>\n",
       "<p>293 rows × 4 columns</p>\n",
       "</div>"
      ],
      "text/plain": [
       "     probability  prediction  actual  correct\n",
       "0       0.870271           1       1     True\n",
       "1       0.837765           1       1     True\n",
       "2       0.906976           1       0    False\n",
       "3       0.818369           1       1     True\n",
       "4       0.947875           1       1     True\n",
       "..           ...         ...     ...      ...\n",
       "288     0.221139           0       0     True\n",
       "289     0.833416           1       1     True\n",
       "290     0.308632           0       0     True\n",
       "291     0.578500           1       1     True\n",
       "292     0.625633           1       0    False\n",
       "\n",
       "[293 rows x 4 columns]"
      ]
     },
     "execution_count": 134,
     "metadata": {},
     "output_type": "execute_result"
    }
   ],
   "source": [
    "df_pred"
   ]
  },
  {
   "cell_type": "code",
   "execution_count": 135,
   "id": "a3c2fdb7",
   "metadata": {},
   "outputs": [
    {
     "data": {
      "text/plain": [
       "0.7440273037542662"
      ]
     },
     "execution_count": 135,
     "metadata": {},
     "output_type": "execute_result"
    }
   ],
   "source": [
    "df_pred.correct.astype(int).mean()"
   ]
  },
  {
   "cell_type": "code",
   "execution_count": 136,
   "id": "1589d85b",
   "metadata": {},
   "outputs": [],
   "source": [
    "from sklearn.metrics import accuracy_score"
   ]
  },
  {
   "cell_type": "code",
   "execution_count": 137,
   "id": "fac3648d",
   "metadata": {},
   "outputs": [
    {
     "data": {
      "text/plain": [
       "(0.7440273037542662, 0.74)"
      ]
     },
     "execution_count": 137,
     "metadata": {},
     "output_type": "execute_result"
    }
   ],
   "source": [
    "acc_base = accuracy_score(y_val, converted_result)\n",
    "acc_base,round(acc_base,2)"
   ]
  },
  {
   "cell_type": "markdown",
   "id": "71ca2b41",
   "metadata": {},
   "source": [
    "**Question 5: Which of following feature has the smallest difference?**"
   ]
  },
  {
   "cell_type": "code",
   "execution_count": 152,
   "id": "dd8b5f05",
   "metadata": {},
   "outputs": [
    {
     "name": "stdout",
     "output_type": "stream",
     "text": [
      "0.7952218430034129\n",
      "0.7337883959044369\n",
      "0.7952218430034129\n",
      "0.7440273037542662\n",
      "0.7098976109215017\n",
      "0.8839590443686007\n",
      "0.7064846416382252\n",
      "0.7406143344709898\n"
     ]
    }
   ],
   "source": [
    "features = categorical + numerical\n",
    "\n",
    "df_train_copy = df_train.copy()\n",
    "df_val_copy = df_val.copy()\n",
    "\n",
    "scores = {}\n",
    "\n",
    "for f in features:  \n",
    "    train_dicts_rm = df_train_copy[categorical + numerical].drop(columns=[f]).to_dict(orient='records')\n",
    "    val_dicts_rm = df_val_copy[categorical + numerical].drop(columns=[f]).to_dict(orient='records')\n",
    "    \n",
    "    dv = DictVectorizer(sparse=False)\n",
    "    \n",
    "    X_train_rm = dv.fit_transform(train_dicts_rm)\n",
    "    X_val_rm = dv.transform(val_dicts_rm)\n",
    "    \n",
    "    model = LogisticRegression(solver='liblinear', C=1.0, max_iter=1000, random_state=42)\n",
    "    model.fit(X_train_rm,y_train)\n",
    "    \n",
    "    y_pred = model.predict_proba(X_val_rm)[:,1]\n",
    "    \n",
    "\n",
    "#     acc = accuracy_score(y_val,y_pred)\n",
    "    converted_result = (y_pred >=0.5)\n",
    "    acc_rm = (y_val==converted_result).mean()\n",
    "    print(acc_rm)\n",
    "    \n",
    "    scores[f] = acc_socre -  acc_rm"
   ]
  },
  {
   "cell_type": "code",
   "execution_count": 153,
   "id": "ac1a4c22",
   "metadata": {},
   "outputs": [
    {
     "data": {
      "text/plain": [
       "interaction_count           0.037543\n",
       "number_of_courses_viewed    0.034130\n",
       "industry                    0.010239\n",
       "lead_score                  0.003413\n",
       "location                    0.000000\n",
       "lead_source                -0.051195\n",
       "employment_status          -0.051195\n",
       "annual_income              -0.139932\n",
       "dtype: float64"
      ]
     },
     "execution_count": 153,
     "metadata": {},
     "output_type": "execute_result"
    }
   ],
   "source": [
    "pd.Series(scores).sort_values(ascending=False)"
   ]
  },
  {
   "cell_type": "markdown",
   "id": "0ff4bea7",
   "metadata": {},
   "source": [
    "**Question 6: Which of these C leads to the best accuracy on the validation set?**"
   ]
  },
  {
   "cell_type": "code",
   "execution_count": 158,
   "id": "1b93df50",
   "metadata": {},
   "outputs": [
    {
     "name": "stdout",
     "output_type": "stream",
     "text": [
      "{0.01: 0.7440273037542662, 0.1: 0.7440273037542662, 1: 0.7440273037542662, 10: 0.7440273037542662, 100: 0.7440273037542662}\n"
     ]
    }
   ],
   "source": [
    "C = [0.01, 0.1, 1, 10, 100]\n",
    "C_scores = {}\n",
    "dv = DictVectorizer(sparse= False)\n",
    "X_train = dv.fit_transform(train_dicts)\n",
    "X_val = dv.transform(val_dicts)\n",
    "\n",
    "for c in C:   \n",
    "    model = LogisticRegression(solver='liblinear', C=c, max_iter=1000, random_state=42)\n",
    "    model.fit(X_train,y_train)\n",
    "    \n",
    "    y_pred = model.predict(X_val)\n",
    "    c_acc = accuracy_score(y_val,y_pred)\n",
    "    \n",
    "    C_scores[c] = c_acc\n",
    "    \n",
    "\n",
    "print(C_scores)\n",
    "        \n"
   ]
  },
  {
   "cell_type": "code",
   "execution_count": null,
   "id": "2e322319",
   "metadata": {},
   "outputs": [],
   "source": []
  }
 ],
 "metadata": {
  "kernelspec": {
   "display_name": "Python 3 (ipykernel)",
   "language": "python",
   "name": "python3"
  },
  "language_info": {
   "codemirror_mode": {
    "name": "ipython",
    "version": 3
   },
   "file_extension": ".py",
   "mimetype": "text/x-python",
   "name": "python",
   "nbconvert_exporter": "python",
   "pygments_lexer": "ipython3",
   "version": "3.10.9"
  }
 },
 "nbformat": 4,
 "nbformat_minor": 5
}
